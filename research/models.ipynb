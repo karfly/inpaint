{
 "cells": [
  {
   "cell_type": "code",
   "execution_count": 1,
   "metadata": {},
   "outputs": [],
   "source": [
    "import torch\n",
    "import torch.nn as nn\n",
    "\n",
    "import numpy as np"
   ]
  },
  {
   "cell_type": "code",
   "execution_count": 2,
   "metadata": {},
   "outputs": [],
   "source": [
    "DEBUG = False"
   ]
  },
  {
   "cell_type": "markdown",
   "metadata": {},
   "source": [
    "## Partial Convolution"
   ]
  },
  {
   "cell_type": "code",
   "execution_count": 3,
   "metadata": {},
   "outputs": [],
   "source": [
    "class PartialConv2d(nn.Module):\n",
    "    def __init__(self, in_channels, out_channels, kernel_size, stride=1, padding=0):\n",
    "        super().__init__()\n",
    "        \n",
    "        self.in_channels = in_channels\n",
    "        self.out_channels = out_channels\n",
    "        self.kernel_size = kernel_size\n",
    "        self.stride = stride\n",
    "\n",
    "        self.conv = nn.Conv2d(in_channels, out_channels, kernel_size, stride=stride, padding=padding, bias=False)  # TODO: see no bias here!\n",
    "        self.conv_bias = nn.Parameter(torch.zeros(out_channels), requires_grad=True)\n",
    "        \n",
    "        self.sum_conv = nn.Conv2d(in_channels, 1, kernel_size, stride=stride, padding=padding, bias=False)\n",
    "        self.sum_conv.weight.data.fill_(1)\n",
    "        self.sum_conv.weight.requires_grad_(False)  # TODO: check that not learning\n",
    "        \n",
    "    \n",
    "    def forward(self, x, mask):\n",
    "        \"\"\"\n",
    "        Forward pass of Partial Convolution (arxiv.org/abs/1804.07723)\n",
    "        \n",
    "        Parameters\n",
    "        ----------\n",
    "        x : FloatTensor, input feature tensor of shape (b, c, h, w)\n",
    "        mask : FloatTensor, binary mask tensor of shape (b, c, h, w)\n",
    "        \"\"\"\n",
    "        assert x.shape == mask.shape, 'x and mask shapes must be equal'\n",
    "        \n",
    "        x_masked = x * mask\n",
    "        x_after_conv = self.conv(x_masked)\n",
    "\n",
    "        x_after_conv_normed = x_after_conv  # no norm\n",
    "        # x_after_conv_normed = torch.where(mask_norm != 0, x_after_conv / mask_norm, torch.zeros_like(x_after_conv))\n",
    "        x_after_conv_normed += self.conv_bias.view(1, -1, 1, 1)\n",
    "        \n",
    "        updated_mask_single = (self.sum_conv(mask) > 0).type(torch.float32)\n",
    "        updated_mask = torch.cat([updated_mask_single] * self.out_channels, dim=1).to(mask.device)\n",
    "            \n",
    "        return x_after_conv_normed, updated_mask"
   ]
  },
  {
   "cell_type": "markdown",
   "metadata": {},
   "source": [
    "## Network"
   ]
  },
  {
   "cell_type": "code",
   "execution_count": 4,
   "metadata": {},
   "outputs": [],
   "source": [
    "class InpaintDownBlock(nn.Module):\n",
    "    def __init__(self, in_channels, out_channels, kernel_size, stride=2, padding='same', bn=True):\n",
    "        super().__init__()\n",
    "        \n",
    "        self.in_channels = in_channels\n",
    "        self.out_channels = out_channels\n",
    "        self.kernel_size = kernel_size\n",
    "        self.stride = stride\n",
    "        \n",
    "        padding = (kernel_size - 1) // 2 if padding == 'same' else padding\n",
    "        self.padding = padding\n",
    "        \n",
    "        self.bn = bn\n",
    "        \n",
    "        self.pconv = PartialConv2d(in_channels, out_channels, kernel_size, stride=stride, padding=padding)\n",
    "        if bn:\n",
    "            self.bn = nn.BatchNorm2d(out_channels)\n",
    "        self.relu = nn.ReLU(inplace=True)\n",
    "        \n",
    "    def forward(self, x, mask):\n",
    "        x, mask = self.pconv(x, mask)\n",
    "        if self.bn:\n",
    "            x = self.bn(x)\n",
    "        x = self.relu(x)\n",
    "        \n",
    "        return x, mask"
   ]
  },
  {
   "cell_type": "code",
   "execution_count": 5,
   "metadata": {},
   "outputs": [],
   "source": [
    "class InpaintUpBlock(nn.Module):\n",
    "    def __init__(self, in_channels, in_channels_bridge, out_channels, kernel_size, padding='same', bn=True):\n",
    "        super().__init__()\n",
    "        \n",
    "        self.in_channels = in_channels\n",
    "        self.in_channels_bridge = in_channels_bridge\n",
    "        self.out_channels = out_channels\n",
    "        self.kernel_size = kernel_size\n",
    "        \n",
    "        padding = (kernel_size - 1) // 2 if padding == 'same' else padding\n",
    "        self.padding = padding\n",
    "        \n",
    "        self.bn = bn\n",
    "        \n",
    "        self.upsample = nn.Upsample(scale_factor=2, mode='nearest')  # TODO: align corners!\n",
    "        \n",
    "        self.pconv = PartialConv2d(in_channels + in_channels_bridge, out_channels, kernel_size, padding=padding)\n",
    "        if bn:\n",
    "            self.bn = nn.BatchNorm2d(out_channels)\n",
    "        self.leaky_relu = nn.LeakyReLU(negative_slope=0.2, inplace=True)\n",
    "        \n",
    "    def forward(self, x, mask, x_bridge, mask_bridge):\n",
    "        x, mask = self.upsample(x), self.upsample(mask)\n",
    "        torch.cat([mask, mask_bridge], dim=1)\n",
    "        x, mask = torch.cat([x, x_bridge], dim=1), torch.cat([mask, mask_bridge], dim=1)\n",
    "        \n",
    "        x, mask = self.pconv(x, mask)\n",
    "        \n",
    "        if self.bn:\n",
    "            x = self.bn(x)\n",
    "        x = self.leaky_relu(x)\n",
    "        \n",
    "        return x, mask"
   ]
  },
  {
   "cell_type": "code",
   "execution_count": 6,
   "metadata": {},
   "outputs": [],
   "source": [
    "class InpaintNet(nn.Module):\n",
    "    def __init__(self, in_channels=3, out_channels=3):\n",
    "        super().__init__()\n",
    "        \n",
    "        self.in_channels = in_channels\n",
    "        self.out_channels = out_channels\n",
    "        \n",
    "        self.depth = 7\n",
    "        \n",
    "        # down\n",
    "        self.down_blocks = nn.ModuleList([\n",
    "            InpaintDownBlock(in_channels, 64, 7, stride=2, padding='same', bn=False),\n",
    "            InpaintDownBlock(64, 128, 5, stride=2, padding='same', bn=False),\n",
    "            InpaintDownBlock(128, 256, 5, stride=2, padding='same', bn=False),\n",
    "            InpaintDownBlock(256, 512, 3, stride=2, padding='same', bn=False),\n",
    "            InpaintDownBlock(512, 512, 3, stride=2, padding='same', bn=False),\n",
    "            InpaintDownBlock(512, 512, 3, stride=2, padding='same', bn=False),\n",
    "            InpaintDownBlock(512, 512, 3, stride=2, padding='same', bn=False),\n",
    "        ])\n",
    "        \n",
    "        # up\n",
    "        self.up_blocks = nn.ModuleList([\n",
    "            InpaintUpBlock(512, 512, 512, 3, padding='same', bn=False),\n",
    "            InpaintUpBlock(512, 512, 512, 3, padding='same', bn=False),\n",
    "            InpaintUpBlock(512, 512, 512, 3, padding='same', bn=False),\n",
    "            InpaintUpBlock(512, 256, 256, 3, padding='same', bn=False),\n",
    "            InpaintUpBlock(256, 128, 128, 3, padding='same', bn=False),\n",
    "            InpaintUpBlock(128, 64, 64, 3, padding='same', bn=False),\n",
    "            InpaintUpBlock(64, 3, 3, 3, padding='same', bn=False)\n",
    "        ])\n",
    "        \n",
    "    def forward(self, x, mask):\n",
    "        x_bridges, mask_bridges = [], []\n",
    "        for i in range(self.depth):\n",
    "            x_bridges.append(x)\n",
    "            mask_bridges.append(mask)\n",
    "            x, mask = self.down_blocks[i](x, mask)\n",
    "\n",
    "        for i in range(self.depth):\n",
    "            x, mask = self.up_blocks[i](x, mask, x_bridges[-i - 1], mask_bridges[-i - 1])\n",
    "        \n",
    "        return x, mask"
   ]
  },
  {
   "cell_type": "code",
   "execution_count": 7,
   "metadata": {},
   "outputs": [],
   "source": [
    "model = InpaintNet()"
   ]
  },
  {
   "cell_type": "code",
   "execution_count": 8,
   "metadata": {},
   "outputs": [],
   "source": [
    "state_dict_path = '../model_no_sigmoid_lr_18.pth'\n",
    "\n",
    "state_dict = torch.load(state_dict_path, map_location=lambda storage, loc: storage)\n",
    "model.load_state_dict(state_dict)"
   ]
  },
  {
   "cell_type": "markdown",
   "metadata": {},
   "source": [
    "## Example"
   ]
  },
  {
   "cell_type": "code",
   "execution_count": 9,
   "metadata": {},
   "outputs": [
    {
     "name": "stdout",
     "output_type": "stream",
     "text": [
      "torch.Size([1, 3, 256, 256])\n"
     ]
    }
   ],
   "source": [
    "image = torch.rand((1, 3, 256, 256))\n",
    "mask = torch.randint(0, 2, (1, 3, 256, 256))\n",
    "\n",
    "image_result, _ = model(image, mask)\n",
    "print(image_result.shape)"
   ]
  }
 ],
 "metadata": {
  "kernelspec": {
   "display_name": "Python 3",
   "language": "python",
   "name": "python3"
  },
  "language_info": {
   "codemirror_mode": {
    "name": "ipython",
    "version": 3
   },
   "file_extension": ".py",
   "mimetype": "text/x-python",
   "name": "python",
   "nbconvert_exporter": "python",
   "pygments_lexer": "ipython3",
   "version": "3.6.5"
  }
 },
 "nbformat": 4,
 "nbformat_minor": 2
}
