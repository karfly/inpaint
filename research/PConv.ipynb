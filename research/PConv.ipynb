{
 "cells": [
  {
   "cell_type": "code",
   "execution_count": 1,
   "metadata": {},
   "outputs": [],
   "source": [
    "import torch\n",
    "import torch.nn as nn\n",
    "\n",
    "import numpy as np"
   ]
  },
  {
   "cell_type": "code",
   "execution_count": 2,
   "metadata": {},
   "outputs": [],
   "source": [
    "DEBUG = True"
   ]
  },
  {
   "cell_type": "code",
   "execution_count": 3,
   "metadata": {},
   "outputs": [],
   "source": [
    "class PartialConv2d(nn.Module):\n",
    "    def __init__(self, in_channels, out_channels, kernel_size, stride=1):\n",
    "        super().__init__()\n",
    "        \n",
    "        self.in_channels = in_channels\n",
    "        self.out_channels = out_channels\n",
    "        self.kernel_size = kernel_size\n",
    "        self.stride = stride\n",
    "\n",
    "        self.conv = nn.Conv2d(in_channels, out_channels, kernel_size, stride=stride)\n",
    "        \n",
    "        self.sum_conv = nn.Conv2d(in_channels, 1, kernel_size, stride=stride, bias=False)\n",
    "        self.sum_conv.weight.data.fill_(1)\n",
    "        self.sum_conv.weight.requires_grad_(False)  # TODO: check that not learning\n",
    "        \n",
    "    \n",
    "    def forward(self, x, mask):\n",
    "        \"\"\"\n",
    "        Forward pass of Partial Convolution (arxiv.org/abs/1804.07723)\n",
    "        \n",
    "        Parameters\n",
    "        ----------\n",
    "        x : FloatTensor, input feature tensor of shape (b, c, h, w)\n",
    "        mask : FloatTensor, binary mask tensor of shape (b, c, h, w)\n",
    "        \"\"\"\n",
    "        #mask_unsqueezed = mask.unsqueeze(1)  # making mask of shape (b, 1, h, w)\n",
    "        assert x.shape == mask.shape, 'x and mask shapes must be equal'\n",
    "        \n",
    "        x_masked = x * mask\n",
    "        x_after_conv = self.conv(x_masked)\n",
    "\n",
    "        mask_norm = self.sum_conv(mask)\n",
    "        x_after_conv_normed = torch.where(mask_norm != 0, x_after_conv / mask_norm, torch.zeros_like(x_after_conv))\n",
    "\n",
    "        updated_mask_single = (self.sum_conv(mask) > 0).type(torch.FloatTensor)\n",
    "        updated_mask = torch.cat([updated_mask_single] * self.out_channels, dim=1)\n",
    "\n",
    "        if DEBUG:\n",
    "            print('x')\n",
    "            print(x)\n",
    "            print()\n",
    "\n",
    "            print('mask')\n",
    "            print(mask)\n",
    "            print()\n",
    "\n",
    "            print('x_after_conv')\n",
    "            print(x_after_conv)\n",
    "            print()\n",
    "\n",
    "            print('mask_norm')\n",
    "            print(mask_norm)\n",
    "            print()\n",
    "\n",
    "            print('x_after_conv_normed')\n",
    "            print(x_after_conv_normed)\n",
    "            print()\n",
    "\n",
    "            print('updated_mask')\n",
    "            print(updated_mask)\n",
    "            print()\n",
    "            \n",
    "        return x_after_conv_normed, updated_mask"
   ]
  },
  {
   "cell_type": "markdown",
   "metadata": {},
   "source": [
    "Testing:"
   ]
  },
  {
   "cell_type": "code",
   "execution_count": 4,
   "metadata": {},
   "outputs": [
    {
     "name": "stdout",
     "output_type": "stream",
     "text": [
      "torch.Size([2, 1, 4, 4])\n",
      "torch.Size([2, 2, 4, 4])\n",
      "x\n",
      "tensor([[[[ 4.,  2.,  4.,  0.],\n",
      "          [ 4.,  0.,  4.,  4.],\n",
      "          [ 0.,  2.,  2.,  1.],\n",
      "          [ 1.,  2.,  1.,  3.]],\n",
      "\n",
      "         [[ 3.,  1.,  0.,  4.],\n",
      "          [ 3.,  4.,  0.,  0.],\n",
      "          [ 4.,  1.,  0.,  4.],\n",
      "          [ 4.,  0.,  2.,  4.]]],\n",
      "\n",
      "\n",
      "        [[[ 4.,  1.,  1.,  1.],\n",
      "          [ 0.,  1.,  4.,  2.],\n",
      "          [ 4.,  0.,  1.,  3.],\n",
      "          [ 0.,  0.,  1.,  4.]],\n",
      "\n",
      "         [[ 0.,  0.,  3.,  0.],\n",
      "          [ 3.,  3.,  2.,  2.],\n",
      "          [ 2.,  1.,  2.,  3.],\n",
      "          [ 1.,  1.,  0.,  4.]]]])\n",
      "\n",
      "mask\n",
      "tensor([[[[ 0.,  0.,  0.,  0.],\n",
      "          [ 0.,  1.,  0.,  0.],\n",
      "          [ 0.,  1.,  0.,  1.],\n",
      "          [ 0.,  0.,  0.,  1.]],\n",
      "\n",
      "         [[ 0.,  0.,  0.,  0.],\n",
      "          [ 0.,  1.,  0.,  0.],\n",
      "          [ 0.,  1.,  0.,  1.],\n",
      "          [ 0.,  0.,  0.,  1.]]],\n",
      "\n",
      "\n",
      "        [[[ 0.,  0.,  1.,  0.],\n",
      "          [ 1.,  0.,  1.,  1.],\n",
      "          [ 0.,  1.,  0.,  1.],\n",
      "          [ 0.,  0.,  1.,  0.]],\n",
      "\n",
      "         [[ 0.,  0.,  1.,  0.],\n",
      "          [ 1.,  0.,  1.,  1.],\n",
      "          [ 0.,  1.,  0.,  1.],\n",
      "          [ 0.,  0.,  1.,  0.]]]])\n",
      "\n",
      "x_after_conv\n",
      "tensor([[[[-0.7789,  1.7482],\n",
      "          [ 0.2845,  1.6679]]],\n",
      "\n",
      "\n",
      "        [[[ 0.9958,  0.8245],\n",
      "          [ 0.3841,  1.3592]]]])\n",
      "\n",
      "mask_norm\n",
      "tensor([[[[  4.,   6.],\n",
      "          [  4.,   8.]]],\n",
      "\n",
      "\n",
      "        [[[  8.,  10.],\n",
      "          [  8.,  10.]]]])\n",
      "\n",
      "x_after_conv_normed\n",
      "tensor([[[[-0.1947,  0.2914],\n",
      "          [ 0.0711,  0.2085]]],\n",
      "\n",
      "\n",
      "        [[[ 0.1245,  0.0824],\n",
      "          [ 0.0480,  0.1359]]]])\n",
      "\n",
      "updated_mask\n",
      "tensor([[[[ 1.,  1.],\n",
      "          [ 1.,  1.]]],\n",
      "\n",
      "\n",
      "        [[[ 1.,  1.],\n",
      "          [ 1.,  1.]]]])\n",
      "\n"
     ]
    }
   ],
   "source": [
    "b, c, h, w = 2, 2, 4, 4\n",
    "\n",
    "x = torch.randint(0, 5, (b, c, h, w))\n",
    "\n",
    "mask_single = (torch.rand((b, h, w)) > 0.8).unsqueeze(1).type(torch.FloatTensor)\n",
    "print(mask_single.shape)\n",
    "mask = torch.cat([mask_single] * c, dim=1)\n",
    "print(mask.shape)\n",
    "\n",
    "pconv = PartialConv2d(c, 1, 3, stride=1)\n",
    "\n",
    "x_new, mask_new = pconv(x, mask)"
   ]
  },
  {
   "cell_type": "code",
   "execution_count": null,
   "metadata": {},
   "outputs": [],
   "source": [
    "mask.un"
   ]
  },
  {
   "cell_type": "code",
   "execution_count": null,
   "metadata": {},
   "outputs": [],
   "source": [
    "0.3288 / 8"
   ]
  },
  {
   "cell_type": "code",
   "execution_count": null,
   "metadata": {},
   "outputs": [],
   "source": [
    "torch.where()"
   ]
  },
  {
   "cell_type": "code",
   "execution_count": null,
   "metadata": {},
   "outputs": [],
   "source": [
    "b, c, h, w = 2, 3, 4, 4\n",
    "x = torch.rand((b, c, h, w))\n",
    "mask = torch.randint(0, 2, (b, h, w))"
   ]
  },
  {
   "cell_type": "code",
   "execution_count": null,
   "metadata": {},
   "outputs": [],
   "source": [
    "b, c, h, w = 2, 4, 5, 5\n",
    "mask = (torch.rand((b, h, w)) > 0.5).type(torch.FloatTensor)\n",
    "mask_unsqueezed = mask.unsqueeze(1)\n",
    "\n",
    "norm_conv = nn.Conv2d(1, 1, 3, stride=1, bias=False)\n",
    "norm_conv.weight.data.fill_(1)\n",
    "\n",
    "mask_norm = norm_conv(mask_unsqueezed)"
   ]
  },
  {
   "cell_type": "code",
   "execution_count": null,
   "metadata": {},
   "outputs": [],
   "source": [
    "print(mask_norm.shape)\n",
    "print(mask_norm)\n",
    "print(torch.cat([mask_norm] * 5, dim=1))"
   ]
  },
  {
   "cell_type": "code",
   "execution_count": null,
   "metadata": {},
   "outputs": [],
   "source": [
    "mask.shape"
   ]
  },
  {
   "cell_type": "code",
   "execution_count": null,
   "metadata": {},
   "outputs": [],
   "source": [
    "mask_unsqueezed"
   ]
  },
  {
   "cell_type": "code",
   "execution_count": null,
   "metadata": {},
   "outputs": [],
   "source": [
    "mask_norm"
   ]
  },
  {
   "cell_type": "code",
   "execution_count": null,
   "metadata": {},
   "outputs": [],
   "source": [
    "mask.squeeze(1).shape"
   ]
  },
  {
   "cell_type": "code",
   "execution_count": null,
   "metadata": {},
   "outputs": [],
   "source": []
  },
  {
   "cell_type": "code",
   "execution_count": null,
   "metadata": {},
   "outputs": [],
   "source": [
    "mask_unsqueezed[0]"
   ]
  },
  {
   "cell_type": "code",
   "execution_count": null,
   "metadata": {},
   "outputs": [],
   "source": [
    "mask_norm[0]"
   ]
  },
  {
   "cell_type": "code",
   "execution_count": null,
   "metadata": {},
   "outputs": [],
   "source": [
    "mask.dtype"
   ]
  },
  {
   "cell_type": "code",
   "execution_count": null,
   "metadata": {},
   "outputs": [],
   "source": [
    "norm_conv.bias.data.zero_()"
   ]
  },
  {
   "cell_type": "code",
   "execution_count": null,
   "metadata": {},
   "outputs": [],
   "source": []
  }
 ],
 "metadata": {
  "kernelspec": {
   "display_name": "Python 3",
   "language": "python",
   "name": "python3"
  },
  "language_info": {
   "codemirror_mode": {
    "name": "ipython",
    "version": 3
   },
   "file_extension": ".py",
   "mimetype": "text/x-python",
   "name": "python",
   "nbconvert_exporter": "python",
   "pygments_lexer": "ipython3",
   "version": "3.5.2"
  }
 },
 "nbformat": 4,
 "nbformat_minor": 2
}
