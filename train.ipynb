{
 "cells": [
  {
   "cell_type": "code",
   "execution_count": 1,
   "metadata": {},
   "outputs": [],
   "source": [
    "import torch\n",
    "import torch.nn as nn\n",
    "\n",
    "import numpy as np"
   ]
  },
  {
   "cell_type": "code",
   "execution_count": 2,
   "metadata": {},
   "outputs": [],
   "source": [
    "DEBUG = False"
   ]
  },
  {
   "cell_type": "markdown",
   "metadata": {},
   "source": [
    "## Partial Convolution"
   ]
  },
  {
   "cell_type": "code",
   "execution_count": 3,
   "metadata": {},
   "outputs": [],
   "source": [
    "# class PartialConv2d(nn.Module):\n",
    "#     def __init__(self, in_channels, out_channels, kernel_size, stride=1, padding=0):\n",
    "#         super().__init__()\n",
    "        \n",
    "#         self.in_channels = in_channels\n",
    "#         self.out_channels = out_channels\n",
    "#         self.kernel_size = kernel_size\n",
    "#         self.stride = stride\n",
    "\n",
    "#         self.conv = nn.Conv2d(in_channels, out_channels, kernel_size, stride=stride, padding=padding, bias=False)  # TODO: see no bias here!\n",
    "#         self.conv_bias = nn.Parameter(torch.zeros(out_channels), requires_grad=True)\n",
    "        \n",
    "#         self.sum_conv = nn.Conv2d(in_channels, 1, kernel_size, stride=stride, padding=padding, bias=False)\n",
    "#         self.sum_conv.weight.data.fill_(1)\n",
    "#         self.sum_conv.weight.requires_grad_(False)  # TODO: check that not learning\n",
    "        \n",
    "    \n",
    "#     def forward(self, x, mask):\n",
    "#         \"\"\"\n",
    "#         Forward pass of Partial Convolution (arxiv.org/abs/1804.07723)\n",
    "        \n",
    "#         Parameters\n",
    "#         ----------\n",
    "#         x : FloatTensor, input feature tensor of shape (b, c, h, w)\n",
    "#         mask : FloatTensor, binary mask tensor of shape (b, c, h, w)\n",
    "#         \"\"\"\n",
    "#         #mask_unsqueezed = mask.unsqueeze(1)  # making mask of shape (b, 1, h, w)\n",
    "#         assert x.shape == mask.shape, 'x and mask shapes must be equal'\n",
    "        \n",
    "#         x_masked = x * mask\n",
    "#         x_after_conv = self.conv(x_masked)\n",
    "\n",
    "#         mask_norm = self.sum_conv(mask)\n",
    "#         x_after_conv_normed = torch.where(mask_norm != 0, x_after_conv / mask_norm, torch.zeros_like(x_after_conv))\n",
    "#         x_after_conv_normed += self.conv_bias.view(1, -1, 1, 1)\n",
    "\n",
    "#         updated_mask_single = (self.sum_conv(mask) > 0).type(torch.FloatTensor)\n",
    "#         updated_mask = torch.cat([updated_mask_single] * self.out_channels, dim=1)\n",
    "\n",
    "#         if DEBUG:\n",
    "#             print('x')\n",
    "#             print(x)\n",
    "#             print()\n",
    "\n",
    "#             print('mask')\n",
    "#             print(mask)\n",
    "#             print()\n",
    "            \n",
    "#             print('x_masked')\n",
    "#             print(x_masked)\n",
    "#             print()\n",
    "\n",
    "#             print('x_after_conv')\n",
    "#             print(x_after_conv)\n",
    "#             print()\n",
    "\n",
    "#             print('mask_norm')\n",
    "#             print(mask_norm)\n",
    "#             print()\n",
    "\n",
    "#             print('x_after_conv_normed')\n",
    "#             print(x_after_conv_normed)\n",
    "#             print()\n",
    "\n",
    "#             print('updated_mask')\n",
    "#             print(updated_mask)\n",
    "#             print()\n",
    "            \n",
    "#         return x_after_conv_normed, updated_mask"
   ]
  },
  {
   "cell_type": "code",
   "execution_count": 4,
   "metadata": {},
   "outputs": [],
   "source": [
    "class PartialConv2d(nn.Module):\n",
    "    def __init__(self, in_channels, out_channels, kernel_size, stride=1, padding=0):\n",
    "        super().__init__()\n",
    "        \n",
    "        self.in_channels = in_channels\n",
    "        self.out_channels = out_channels\n",
    "        self.kernel_size = kernel_size\n",
    "        self.stride = stride\n",
    "\n",
    "        self.conv = nn.Conv2d(in_channels, out_channels, kernel_size, stride=stride, padding=padding, bias=False)  # TODO: see no bias here!\n",
    "        self.conv_bias = nn.Parameter(torch.zeros(out_channels), requires_grad=True)\n",
    "        \n",
    "        self.sum_conv = nn.Conv2d(in_channels, 1, kernel_size, stride=stride, padding=padding, bias=False)\n",
    "        self.sum_conv.weight.data.fill_(1)\n",
    "        self.sum_conv.weight.requires_grad_(False)  # TODO: check that not learning\n",
    "        \n",
    "    \n",
    "    def forward(self, x, mask):\n",
    "        \"\"\"\n",
    "        Forward pass of Partial Convolution (arxiv.org/abs/1804.07723)\n",
    "        \n",
    "        Parameters\n",
    "        ----------\n",
    "        x : FloatTensor, input feature tensor of shape (b, c, h, w)\n",
    "        mask : FloatTensor, binary mask tensor of shape (b, c, h, w)\n",
    "        \"\"\"\n",
    "        #mask_unsqueezed = mask.unsqueeze(1)  # making mask of shape (b, 1, h, w)\n",
    "        assert x.shape == mask.shape, 'x and mask shapes must be equal'\n",
    "        \n",
    "        x_masked = x * mask\n",
    "        x_after_conv = self.conv(x_masked)\n",
    "\n",
    "        mask_norm = self.sum_conv(mask)\n",
    "#         x_after_conv_normed = torch.where(mask_norm != 0, x_after_conv / mask_norm, torch.zeros_like(x_after_conv))\n",
    "        x_after_conv_normed = x_after_conv\n",
    "        x_after_conv_normed += self.conv_bias.view(1, -1, 1, 1)\n",
    "\n",
    "        updated_mask_single = (self.sum_conv(mask) > 0).type(torch.FloatTensor)\n",
    "        updated_mask = torch.cat([updated_mask_single] * self.out_channels, dim=1)\n",
    "\n",
    "        if DEBUG:\n",
    "            print('x')\n",
    "            print(x)\n",
    "            print()\n",
    "\n",
    "            print('mask')\n",
    "            print(mask)\n",
    "            print()\n",
    "            \n",
    "            print('x_masked')\n",
    "            print(x_masked)\n",
    "            print()\n",
    "\n",
    "            print('x_after_conv')\n",
    "            print(x_after_conv)\n",
    "            print()\n",
    "\n",
    "            print('mask_norm')\n",
    "            print(mask_norm)\n",
    "            print()\n",
    "\n",
    "            print('x_after_conv_normed')\n",
    "            print(x_after_conv_normed)\n",
    "            print()\n",
    "\n",
    "            print('updated_mask')\n",
    "            print(updated_mask)\n",
    "            print()\n",
    "            \n",
    "        return x_after_conv_normed, updated_mask"
   ]
  },
  {
   "cell_type": "code",
   "execution_count": 5,
   "metadata": {},
   "outputs": [],
   "source": [
    "# class PartialConv2d(nn.Module):\n",
    "#     def __init__(self, in_channels, out_channels, kernel_size, stride=1, padding=0):\n",
    "#         super().__init__()\n",
    "        \n",
    "#         self.in_channels = in_channels\n",
    "#         self.out_channels = out_channels\n",
    "#         self.kernel_size = kernel_size\n",
    "#         self.stride = stride\n",
    "\n",
    "#         self.conv = nn.Conv2d(in_channels, out_channels, kernel_size, stride=stride, padding=padding)\n",
    "        \n",
    "#         self.sum_conv = nn.Conv2d(in_channels, 1, kernel_size, stride=stride, padding=padding, bias=False)\n",
    "#         self.sum_conv.weight.data.fill_(1)\n",
    "#         self.sum_conv.weight.requires_grad_(False)  # TODO: check that not learning\n",
    "        \n",
    "    \n",
    "#     def forward(self, x, mask):\n",
    "#         \"\"\"\n",
    "#         Forward pass of Partial Convolution (arxiv.org/abs/1804.07723)\n",
    "        \n",
    "#         Parameters\n",
    "#         ----------\n",
    "#         x : FloatTensor, input feature tensor of shape (b, c, h, w)\n",
    "#         mask : FloatTensor, binary mask tensor of shape (b, c, h, w)\n",
    "#         \"\"\"\n",
    "#         #mask_unsqueezed = mask.unsqueeze(1)  # making mask of shape (b, 1, h, w)\n",
    "#         assert x.shape == mask.shape, 'x and mask shapes must be equal'\n",
    "        \n",
    "# #         x_masked = x * mask\n",
    "#         x_after_conv = self.conv(x)\n",
    "#         updated_mask_single = (self.sum_conv(mask) > 0).type(torch.FloatTensor)\n",
    "#         updated_mask = torch.cat([updated_mask_single] * self.out_channels, dim=1)\n",
    "#         return x_after_conv, updated_mask\n",
    "\n",
    "# #         mask_norm = self.sum_conv(mask)\n",
    "# #         x_after_conv_normed = torch.where(mask_norm != 0, x_after_conv / mask_norm, torch.zeros_like(x_after_conv))\n",
    "\n",
    "# #         updated_mask_single = (self.sum_conv(mask) > 0).type(torch.FloatTensor)\n",
    "# #         updated_mask = torch.cat([updated_mask_single] * self.out_channels, dim=1)\n",
    "\n",
    "# #         if DEBUG:\n",
    "# #             print('x')\n",
    "# #             print(x)\n",
    "# #             print()\n",
    "\n",
    "# #             print('mask')\n",
    "# #             print(mask)\n",
    "# #             print()\n",
    "            \n",
    "# #             print('x_masked')\n",
    "# #             print(x_masked)\n",
    "# #             print()\n",
    "\n",
    "# #             print('x_after_conv')\n",
    "# #             print(x_after_conv)\n",
    "# #             print()\n",
    "\n",
    "# #             print('mask_norm')\n",
    "# #             print(mask_norm)\n",
    "# #             print()\n",
    "\n",
    "# #             print('x_after_conv_normed')\n",
    "# #             print(x_after_conv_normed)\n",
    "# #             print()\n",
    "\n",
    "# #             print('updated_mask')\n",
    "# #             print(updated_mask)\n",
    "# #             print()\n",
    "            \n",
    "# #         return x_after_conv_normed, updated_mask"
   ]
  },
  {
   "cell_type": "markdown",
   "metadata": {},
   "source": [
    "Testing:"
   ]
  },
  {
   "cell_type": "code",
   "execution_count": 6,
   "metadata": {},
   "outputs": [],
   "source": [
    "b, c, h, w = 1, 1, 5, 5\n",
    "\n",
    "x = torch.randint(0, 5, (b, c, h, w))\n",
    "\n",
    "mask_single = (torch.rand((b, h, w)) > 0.6).unsqueeze(1).type(torch.FloatTensor)\n",
    "mask = torch.cat([mask_single] * c, dim=1)\n",
    "\n",
    "pconv = PartialConv2d(c, 1, 3, stride=2)\n",
    "\n",
    "x_new, mask_new = pconv(x, mask)"
   ]
  },
  {
   "cell_type": "markdown",
   "metadata": {},
   "source": [
    "## Network"
   ]
  },
  {
   "cell_type": "code",
   "execution_count": 7,
   "metadata": {},
   "outputs": [],
   "source": [
    "class InpaintDownBlock(nn.Module):\n",
    "    def __init__(self, in_channels, out_channels, kernel_size, stride=2, padding='same', bn=True):\n",
    "        super().__init__()\n",
    "        \n",
    "        self.in_channels = in_channels\n",
    "        self.out_channels = out_channels\n",
    "        self.kernel_size = kernel_size\n",
    "        self.stride = stride\n",
    "        \n",
    "        padding = (kernel_size - 1) // 2 if padding == 'same' else padding\n",
    "        self.padding = padding\n",
    "        \n",
    "        self.bn = bn\n",
    "        \n",
    "        self.pconv = PartialConv2d(in_channels, out_channels, kernel_size, stride=stride, padding=padding)\n",
    "        if bn:\n",
    "            self.bn = nn.BatchNorm2d(out_channels)\n",
    "        self.relu = nn.ReLU(inplace=True)\n",
    "        \n",
    "    def forward(self, x, mask):\n",
    "        x, mask = self.pconv(x, mask)\n",
    "        if self.bn:\n",
    "            x = self.bn(x)\n",
    "        x = self.relu(x)\n",
    "        \n",
    "        return x, mask"
   ]
  },
  {
   "cell_type": "code",
   "execution_count": 8,
   "metadata": {},
   "outputs": [],
   "source": [
    "# b, c, h, w = 2, 3, 256, 256\n",
    "\n",
    "# x = torch.randint(0, 5, (b, c, h, w))\n",
    "\n",
    "# mask_single = (torch.rand((b, h, w)) > 0.8).unsqueeze(1).type(torch.FloatTensor)\n",
    "# mask = torch.cat([mask_single] * c, dim=1)\n",
    "\n",
    "# down_blocks = [\n",
    "#     InpaintDownBlock(3, 64, 7, stride=2, bn=False),\n",
    "#     InpaintDownBlock(64, 128, 5, stride=2, bn=True),\n",
    "#     InpaintDownBlock(128, 256, 5, stride=2, bn=True),\n",
    "#     InpaintDownBlock(256, 512, 3, stride=2, bn=True),\n",
    "#     InpaintDownBlock(512, 512, 3, stride=2, bn=True),\n",
    "#     InpaintDownBlock(512, 512, 3, stride=2, bn=True),\n",
    "#     InpaintDownBlock(512, 512, 3, stride=2, bn=True),\n",
    "#     InpaintDownBlock(512, 512, 3, stride=2, bn=True)\n",
    "# ]\n",
    "\n",
    "# for down_block in down_blocks:\n",
    "#     print(x.shape, mask.shape)\n",
    "#     x, mask = down_block(x, mask)"
   ]
  },
  {
   "cell_type": "code",
   "execution_count": 9,
   "metadata": {},
   "outputs": [],
   "source": [
    "class InpaintUpBlock(nn.Module):\n",
    "    def __init__(self, in_channels, in_channels_bridge, out_channels, kernel_size, padding='same', bn=True):\n",
    "        super().__init__()\n",
    "        \n",
    "        self.in_channels = in_channels\n",
    "        self.in_channels_bridge = in_channels_bridge\n",
    "        self.out_channels = out_channels\n",
    "        self.kernel_size = kernel_size\n",
    "        \n",
    "        padding = (kernel_size - 1) // 2 if padding == 'same' else padding\n",
    "        self.padding = padding\n",
    "        \n",
    "        self.bn = bn\n",
    "        \n",
    "        self.upsample = nn.Upsample(scale_factor=2, mode='nearest')  # TODO: align corners!\n",
    "        \n",
    "        self.pconv = PartialConv2d(in_channels + in_channels_bridge, out_channels, kernel_size, padding=padding)\n",
    "        if bn:\n",
    "            self.bn = nn.BatchNorm2d(out_channels)\n",
    "        self.leaky_relu = nn.LeakyReLU(negative_slope=0.2, inplace=True)\n",
    "        \n",
    "    def forward(self, x, mask, x_bridge, mask_bridge):\n",
    "        x, mask = self.upsample(x), self.upsample(mask)\n",
    "        torch.cat([mask, mask_bridge], dim=1)\n",
    "        x, mask = torch.cat([x, x_bridge], dim=1), torch.cat([mask, mask_bridge], dim=1)\n",
    "        \n",
    "        x, mask = self.pconv(x, mask)\n",
    "        \n",
    "        if self.bn:\n",
    "            x = self.bn(x)\n",
    "        x = self.leaky_relu(x)\n",
    "        \n",
    "        return x, mask"
   ]
  },
  {
   "cell_type": "code",
   "execution_count": 10,
   "metadata": {},
   "outputs": [],
   "source": [
    "# b, c, h, w = 2, 3, 256, 256\n",
    "\n",
    "# x = torch.randint(0, 5, (b, c, h, w))\n",
    "\n",
    "# mask_single = (torch.rand((b, h, w)) > 0.8).unsqueeze(1).type(torch.FloatTensor)\n",
    "# mask = torch.cat([mask_single] * c, dim=1)\n",
    "\n",
    "# c_bridge = 7\n",
    "# x_bridge = torch.randint(0, 5, (b, c_bridge, 2 * h, 2 * w))\n",
    "\n",
    "# mask_single_bridge = (torch.rand((b, 2 * h, 2 * w)) > 0.8).unsqueeze(1).type(torch.FloatTensor)\n",
    "# mask_bridge = torch.cat([mask_single_bridge] * c_bridge, dim=1)\n",
    "\n",
    "# up_block = InpaintUpBlock(c, c_bridge, 3, 3, bn=True)\n",
    "\n",
    "# x_new, mask_new = up_block(x, mask, x_bridge, mask_bridge)"
   ]
  },
  {
   "cell_type": "code",
   "execution_count": 11,
   "metadata": {},
   "outputs": [],
   "source": [
    "class InpaintNet(nn.Module):\n",
    "    def __init__(self, in_channels, out_channels):\n",
    "        super().__init__()\n",
    "        \n",
    "        self.in_channels = in_channels\n",
    "        self.out_channels = out_channels\n",
    "        \n",
    "        self.depth = 7\n",
    "        \n",
    "        # down\n",
    "        self.down_blocks = nn.ModuleList([\n",
    "            InpaintDownBlock(in_channels, 64, 7, stride=2, padding='same', bn=False),\n",
    "            InpaintDownBlock(64, 128, 5, stride=2, padding='same', bn=False),\n",
    "            InpaintDownBlock(128, 256, 5, stride=2, padding='same', bn=False),\n",
    "            InpaintDownBlock(256, 512, 3, stride=2, padding='same', bn=False),\n",
    "            InpaintDownBlock(512, 512, 3, stride=2, padding='same', bn=False),\n",
    "            InpaintDownBlock(512, 512, 3, stride=2, padding='same', bn=False),\n",
    "            InpaintDownBlock(512, 512, 3, stride=2, padding='same', bn=False),\n",
    "#             InpaintDownBlock(512, 512, 3, stride=2, padding='same', bn=True)\n",
    "        ])\n",
    "        \n",
    "        # up\n",
    "        self.up_blocks = nn.ModuleList([\n",
    "#             InpaintUpBlock(512, 512, 512, 3, padding='same', bn=True),\n",
    "            InpaintUpBlock(512, 512, 512, 3, padding='same', bn=False),\n",
    "            InpaintUpBlock(512, 512, 512, 3, padding='same', bn=False),\n",
    "            InpaintUpBlock(512, 512, 512, 3, padding='same', bn=False),\n",
    "            InpaintUpBlock(512, 256, 256, 3, padding='same', bn=False),\n",
    "            InpaintUpBlock(256, 128, 128, 3, padding='same', bn=False),\n",
    "            InpaintUpBlock(128, 64, 64, 3, padding='same', bn=False),\n",
    "            InpaintUpBlock(64, 3, 3, 3, padding='same', bn=False)\n",
    "        ])\n",
    "        \n",
    "#         down_n_filters = [64, 128, 256, 512, 512, 512, 512, 512]\n",
    "#         down_kernel_sizes = [7, 5, 5, 3, 3, 3, 3, 3]\n",
    "#         down_use_bn = [False, True, True, True, True, True, True, True]\n",
    "        \n",
    "#         for i in range(self.depth):\n",
    "#             down_block = InpaintDownBlock(in_channels, down_n_filters[i], down_kernel_sizes[i],\n",
    "#                                           stride=2, padding='same', bn=down_use_bn[i])\n",
    "#             down_blocks.append(down_block)\n",
    "#             in_channels = down_n_filters[i]\n",
    "\n",
    "        \n",
    "#         # up\n",
    "#         up_blocks = []\n",
    "#         up_n_filters = [512, 512, 512, 512, 256, 128, 64]\n",
    "#         up_kernel_sizes = [3, 3, 3, 3, 3, 3, 3]\n",
    "#         up_use_bn = [True, True, True, True, True, True, True]\n",
    "#         for i in range(self.depth - 1):\n",
    "#             in_channels_bridge = down_n_filters[len(down_blocks) - i - 2]\n",
    "#             up_block = InpaintUpBlock(in_channels, in_channels_bridge, up_n_filters[i], up_kernel_sizes[i],\n",
    "#                                       padding='same', bn=up_use_bn[i])\n",
    "#             up_blocks.append(up_block)\n",
    "#             in_channels = up_n_filters[i]\n",
    "        \n",
    "#         up_block = InpaintUpBlock(in_channels, self.in_channels, out_channels, 3,\n",
    "#                                   padding='same', bn=False)    \n",
    "#         up_blocks.append(up_block)\n",
    "        \n",
    "#         # final\n",
    "#         self.down_blocks = nn.ModuleList(down_blocks)\n",
    "#         self.up_blocks = nn.ModuleList(up_blocks)\n",
    "        \n",
    "        self.sigmoid = nn.Sigmoid()\n",
    "        \n",
    "    def forward(self, x, mask):\n",
    "        x_bridges, mask_bridges = [], []\n",
    "        for i in range(self.depth):\n",
    "#             print('down {} mean image: {}'.format(i, torch.mean(x)))\n",
    "#             print('down {} mean mask: {}'.format(i, torch.mean(mask)))\n",
    "            \n",
    "            x_bridges.append(x)\n",
    "            mask_bridges.append(mask)\n",
    "            x, mask = self.down_blocks[i](x, mask)\n",
    "\n",
    "        for i in range(self.depth):\n",
    "#             print('up {} mean image: {}'.format(i, torch.mean(x)))\n",
    "#             print('up {} mean mask: {}'.format(i, torch.mean(mask)))\n",
    "            x, mask = self.up_blocks[i](x, mask, x_bridges[-i - 1], mask_bridges[-i - 1])\n",
    "        \n",
    "        x = self.sigmoid(x)\n",
    "        return x, mask"
   ]
  },
  {
   "cell_type": "code",
   "execution_count": 12,
   "metadata": {},
   "outputs": [],
   "source": [
    "# b, c, h, w = 2, 3, 256, 256\n",
    "\n",
    "# x = torch.randint(0, 5, (b, c, h, w))\n",
    "\n",
    "# mask_single = (torch.rand((b, h, w)) > 0.95).unsqueeze(1).type(torch.FloatTensor)\n",
    "# # print(mask_single.shape)\n",
    "# mask = torch.cat([mask_single] * c, dim=1)\n",
    "# # print(mask.shape)\n",
    "\n",
    "# inpaint_net = InpaintNet(3, 3)\n",
    "\n",
    "# x_new, mask_new = inpaint_net(x, mask)"
   ]
  },
  {
   "cell_type": "markdown",
   "metadata": {},
   "source": [
    "---"
   ]
  },
  {
   "cell_type": "markdown",
   "metadata": {},
   "source": [
    "## Imports"
   ]
  },
  {
   "cell_type": "code",
   "execution_count": 13,
   "metadata": {},
   "outputs": [],
   "source": [
    "import os\n",
    "import numpy as np\n",
    "from datetime import datetime\n",
    "\n",
    "import torch\n",
    "import torch.nn as nn\n",
    "from torch.utils.data import DataLoader\n",
    "\n",
    "from tensorboardX import SummaryWriter\n",
    "\n",
    "from matplotlib import pylab as plt\n",
    "%matplotlib inline\n",
    "\n",
    "from tqdm import tqdm_notebook as tqdm"
   ]
  },
  {
   "cell_type": "code",
   "execution_count": 14,
   "metadata": {},
   "outputs": [],
   "source": [
    "from imp import reload\n",
    "import inpaint"
   ]
  },
  {
   "cell_type": "markdown",
   "metadata": {},
   "source": [
    "## Setup"
   ]
  },
  {
   "cell_type": "code",
   "execution_count": 15,
   "metadata": {},
   "outputs": [],
   "source": [
    "class config:\n",
    "    device = 'cuda:1' if torch.cuda.is_available() else 'cpu'\n",
    "    \n",
    "    train_dataset_path = './data/celebA-HQ/train'\n",
    "    val_dataset_path = './data/celebA-HQ/train'\n",
    "    \n",
    "    in_channels = 3\n",
    "    out_channels = 3\n",
    "    \n",
    "    train_batch_size = 2\n",
    "    val_batch_size = 2\n",
    "    \n",
    "    n_epochs = 100\n",
    "    \n",
    "    tensorboard_path = './tensorboard'\n",
    "    \n",
    "    n_workers = 1"
   ]
  },
  {
   "cell_type": "markdown",
   "metadata": {},
   "source": [
    "## Data"
   ]
  },
  {
   "cell_type": "code",
   "execution_count": 16,
   "metadata": {},
   "outputs": [],
   "source": [
    "train_dataloader = inpaint.make_dataloader(config.train_dataset_path,\n",
    "                                           batch_size=config.train_batch_size,\n",
    "                                           shuffle=True,\n",
    "                                           num_workers=config.n_workers)\n",
    "\n",
    "val_dataloader = inpaint.make_dataloader(config.val_dataset_path,\n",
    "                                         batch_size=config.val_batch_size,\n",
    "                                         shuffle=False,\n",
    "                                         num_workers=config.n_workers)"
   ]
  },
  {
   "cell_type": "markdown",
   "metadata": {},
   "source": [
    "Check:"
   ]
  },
  {
   "cell_type": "code",
   "execution_count": 17,
   "metadata": {},
   "outputs": [
    {
     "data": {
      "image/png": "[encoded data removed]",
      "text/plain": [
       "<matplotlib.figure.Figure at 0x10bd36390>"
      ]
     },
     "metadata": {},
     "output_type": "display_data"
    },
    {
     "data": {
      "image/png": "[encoded data removed]",
      "text/plain": [
       "<matplotlib.figure.Figure at 0x10c2fb668>"
      ]
     },
     "metadata": {},
     "output_type": "display_data"
    },
    {
     "data": {
      "image/png": "[encoded data removed]",
      "text/plain": [
       "<matplotlib.figure.Figure at 0x10bd364e0>"
      ]
     },
     "metadata": {},
     "output_type": "display_data"
    },
    {
     "data": {
      "image/png": "[encoded data removed]",
      "text/plain": [
       "<matplotlib.figure.Figure at 0x10bd92f60>"
      ]
     },
     "metadata": {},
     "output_type": "display_data"
    }
   ],
   "source": [
    "i = 0\n",
    "for batch in train_dataloader:\n",
    "    image_batch, mask_batch = batch\n",
    "    plt.imshow(image_batch[0].numpy().transpose((1, 2, 0)))\n",
    "    plt.show()\n",
    "    plt.imshow(mask_batch[0].numpy())\n",
    "    plt.show()\n",
    "    \n",
    "    i += 1\n",
    "    if i > 3: break"
   ]
  },
  {
   "cell_type": "markdown",
   "metadata": {},
   "source": [
    "## Load model and associated stuff"
   ]
  },
  {
   "cell_type": "code",
   "execution_count": 18,
   "metadata": {},
   "outputs": [],
   "source": [
    "model = InpaintNet(config.in_channels, config.out_channels).to(config.device)\n",
    "opt = torch.optim.Adam(filter(lambda p: p.requires_grad, model.parameters()), lr=0.001)"
   ]
  },
  {
   "cell_type": "code",
   "execution_count": 19,
   "metadata": {},
   "outputs": [],
   "source": [
    "# criterion = inpaint.modules.InpaintLoss().to(config.device)\n",
    "criterion = nn.MSELoss()"
   ]
  },
  {
   "cell_type": "code",
   "execution_count": 20,
   "metadata": {},
   "outputs": [],
   "source": [
    "experiment_name = 'InpaintNet@{}'.format(datetime.now().strftime(\"%d.%m.%Y %H:%M\"))\n",
    "writer = SummaryWriter(os.path.join(config.tensorboard_path, experiment_name))"
   ]
  },
  {
   "cell_type": "markdown",
   "metadata": {},
   "source": [
    "## Train loop"
   ]
  },
  {
   "cell_type": "code",
   "execution_count": 21,
   "metadata": {},
   "outputs": [],
   "source": [
    "def expand_mask(mask_batch, n_channels):\n",
    "    return torch.cat([mask_batch.unsqueeze(1)] * n_channels, dim=1)\n",
    "\n",
    "def preprocess_batch(batch):\n",
    "    image_batch, mask_batch = batch\n",
    "    image_batch, mask_batch = image_batch.type(torch.FloatTensor), mask_batch.type(torch.FloatTensor)\n",
    "    \n",
    "    mask_batch = expand_mask(mask_batch, config.in_channels)\n",
    "    \n",
    "    image_masked_batch = image_batch * mask_batch\n",
    "    \n",
    "    return image_batch, image_masked_batch, mask_batch"
   ]
  },
  {
   "cell_type": "code",
   "execution_count": 22,
   "metadata": {},
   "outputs": [],
   "source": [
    "for name, param in model.named_parameters():\n",
    "    break"
   ]
  },
  {
   "cell_type": "code",
   "execution_count": 23,
   "metadata": {},
   "outputs": [
    {
     "data": {
      "text/plain": [
       "Parameter containing:\n",
       "tensor([[[[ 2.5598e-03,  3.8015e-03,  7.7703e-03],\n",
       "          [-1.1344e-02, -1.2475e-03,  1.0435e-02],\n",
       "          [-3.2048e-03, -1.0828e-02, -1.3562e-02]],\n",
       "\n",
       "         [[ 4.5322e-03, -1.4419e-02,  5.6345e-04],\n",
       "          [ 8.8920e-03,  3.8547e-03,  6.2416e-03],\n",
       "          [-6.3242e-03,  2.5839e-03,  4.5034e-03]],\n",
       "\n",
       "         [[ 6.7910e-03,  4.0378e-03,  1.3208e-02],\n",
       "          [-3.7310e-03, -1.1954e-02,  2.1763e-03],\n",
       "          [ 1.6485e-03,  7.1290e-03, -5.0741e-03]],\n",
       "\n",
       "         ...,\n",
       "\n",
       "         [[ 1.7510e-03, -3.8539e-03,  2.1342e-03],\n",
       "          [-6.5381e-03,  7.2266e-03,  6.8671e-03],\n",
       "          [-7.7626e-03, -3.0601e-03, -5.9647e-03]],\n",
       "\n",
       "         [[ 5.8769e-03,  2.6878e-03,  6.8524e-03],\n",
       "          [ 9.2148e-03, -1.3891e-03, -2.7324e-03],\n",
       "          [-3.6487e-03,  1.0492e-02, -1.1600e-02]],\n",
       "\n",
       "         [[-3.6211e-03, -6.4418e-03,  9.0634e-03],\n",
       "          [-1.1679e-02,  2.2681e-03, -7.3584e-03],\n",
       "          [ 4.3990e-03, -1.4604e-02,  5.3895e-03]]],\n",
       "\n",
       "\n",
       "        [[[ 8.5359e-03,  5.8919e-03, -8.0686e-03],\n",
       "          [ 3.1927e-04,  1.0790e-02,  9.0061e-03],\n",
       "          [-8.2721e-03,  1.1691e-02, -9.9396e-05]],\n",
       "\n",
       "         [[-1.4387e-02,  3.0150e-03, -4.2097e-03],\n",
       "          [ 1.1504e-03,  1.1930e-02,  4.4454e-03],\n",
       "          [ 1.0696e-02,  1.1992e-02,  3.9014e-03]],\n",
       "\n",
       "         [[ 1.0525e-02, -4.6872e-03, -1.0601e-02],\n",
       "          [ 6.1297e-03, -1.0269e-02, -1.3700e-02],\n",
       "          [ 1.0227e-02,  1.3119e-02,  1.2003e-02]],\n",
       "\n",
       "         ...,\n",
       "\n",
       "         [[-1.4701e-02, -2.3216e-03, -1.3072e-03],\n",
       "          [-3.6379e-03,  4.0223e-04, -8.5723e-03],\n",
       "          [ 2.5024e-03, -1.0967e-02, -3.3109e-03]],\n",
       "\n",
       "         [[-6.1825e-03,  1.1476e-02,  1.2578e-03],\n",
       "          [ 1.0899e-02,  1.4443e-02,  1.2879e-02],\n",
       "          [-1.3718e-02,  6.4824e-03,  3.4436e-04]],\n",
       "\n",
       "         [[-6.2720e-03, -5.4832e-03, -1.1795e-02],\n",
       "          [ 4.4474e-03,  1.2123e-02,  8.3401e-03],\n",
       "          [ 1.1265e-02, -1.8075e-03, -1.1330e-02]]],\n",
       "\n",
       "\n",
       "        [[[ 1.9068e-03, -3.0578e-03,  1.8562e-03],\n",
       "          [-7.3286e-03,  2.8491e-05, -1.4506e-02],\n",
       "          [ 1.2578e-02, -1.4152e-02, -1.0934e-02]],\n",
       "\n",
       "         [[-7.0620e-03, -7.9307e-03, -1.2151e-03],\n",
       "          [-1.2298e-02, -2.3149e-03,  3.2703e-03],\n",
       "          [-5.2167e-03,  1.4228e-03,  9.8146e-04]],\n",
       "\n",
       "         [[-5.2503e-03, -1.0849e-02, -9.0104e-03],\n",
       "          [ 1.0692e-02,  1.1820e-02,  1.1071e-02],\n",
       "          [-1.3463e-02,  5.0560e-04, -7.1124e-03]],\n",
       "\n",
       "         ...,\n",
       "\n",
       "         [[-3.4344e-03,  6.7878e-03,  3.2419e-04],\n",
       "          [ 2.7040e-03, -1.1121e-02, -1.6800e-03],\n",
       "          [-4.3221e-03,  8.4361e-03,  1.3207e-02]],\n",
       "\n",
       "         [[ 6.8659e-03,  6.1748e-03, -4.9216e-03],\n",
       "          [ 1.1458e-02, -1.4527e-02,  1.1984e-02],\n",
       "          [ 2.8546e-03, -9.5076e-03, -1.2643e-02]],\n",
       "\n",
       "         [[-1.3050e-02, -8.2629e-04,  4.0926e-03],\n",
       "          [ 5.3042e-03, -1.3648e-02,  6.1959e-03],\n",
       "          [ 5.5203e-03,  6.4492e-03, -4.4092e-03]]],\n",
       "\n",
       "\n",
       "        ...,\n",
       "\n",
       "\n",
       "        [[[-8.0176e-03,  9.6504e-05,  1.3272e-02],\n",
       "          [ 8.1013e-03,  1.4371e-02, -1.0824e-04],\n",
       "          [ 1.3921e-02,  5.8195e-03, -2.3910e-03]],\n",
       "\n",
       "         [[-1.0093e-03, -1.0809e-02,  9.5838e-04],\n",
       "          [ 3.4642e-03,  1.2975e-02, -1.0771e-03],\n",
       "          [-1.2283e-02,  1.2691e-02, -5.5153e-03]],\n",
       "\n",
       "         [[ 1.0788e-02, -2.2270e-03,  1.1909e-02],\n",
       "          [-2.9170e-03,  6.7270e-03,  9.9215e-03],\n",
       "          [ 9.4931e-04, -7.5440e-03, -7.7094e-03]],\n",
       "\n",
       "         ...,\n",
       "\n",
       "         [[ 1.2616e-02,  9.9887e-04,  9.5086e-03],\n",
       "          [ 7.0884e-03,  3.7927e-03,  8.6054e-03],\n",
       "          [-8.1175e-03, -5.3817e-03, -8.0371e-03]],\n",
       "\n",
       "         [[ 1.0863e-02, -1.0161e-02, -4.3590e-03],\n",
       "          [-8.5096e-03,  1.5129e-03, -5.2546e-03],\n",
       "          [-6.4351e-03,  1.3087e-03,  1.3375e-03]],\n",
       "\n",
       "         [[-6.5178e-03,  2.9197e-03, -9.2466e-03],\n",
       "          [ 1.0172e-02,  9.4872e-03,  4.2836e-03],\n",
       "          [ 9.3315e-03,  7.0385e-03, -4.4662e-03]]],\n",
       "\n",
       "\n",
       "        [[[-4.1105e-03, -1.4696e-02,  8.7322e-03],\n",
       "          [ 1.0694e-02,  1.4865e-03, -1.1461e-02],\n",
       "          [-6.5371e-03, -1.1057e-02,  6.1444e-04]],\n",
       "\n",
       "         [[-4.5270e-03,  1.4730e-02,  4.0112e-03],\n",
       "          [-8.1431e-03, -3.4615e-03,  6.6333e-03],\n",
       "          [ 8.7849e-03,  1.1736e-02,  4.3539e-03]],\n",
       "\n",
       "         [[ 1.3287e-02,  4.2959e-03, -5.2885e-03],\n",
       "          [ 4.8631e-03,  3.8399e-03,  1.1372e-02],\n",
       "          [-1.3398e-02,  7.0249e-03,  9.3300e-03]],\n",
       "\n",
       "         ...,\n",
       "\n",
       "         [[-1.1003e-02,  8.3694e-03, -2.8455e-03],\n",
       "          [ 3.2010e-03, -7.2178e-03, -4.2099e-03],\n",
       "          [ 9.3159e-03,  1.2970e-02, -8.7430e-03]],\n",
       "\n",
       "         [[-4.7275e-03, -8.2032e-03,  1.0531e-02],\n",
       "          [-9.4850e-04,  1.2163e-02,  1.2985e-02],\n",
       "          [ 3.2008e-03,  1.7438e-03,  1.4593e-02]],\n",
       "\n",
       "         [[ 1.1340e-02, -5.6217e-03, -8.1290e-03],\n",
       "          [-8.1085e-03, -8.6861e-04,  5.9016e-03],\n",
       "          [ 7.7279e-03,  1.3997e-03, -4.9336e-03]]],\n",
       "\n",
       "\n",
       "        [[[ 1.4337e-02, -3.1497e-03,  8.1479e-03],\n",
       "          [-9.2776e-03, -1.1821e-02,  1.4595e-02],\n",
       "          [ 1.4119e-02, -1.2264e-02,  7.7623e-03]],\n",
       "\n",
       "         [[-2.1984e-03, -2.6388e-03,  1.1633e-02],\n",
       "          [-1.7026e-04,  9.3819e-03,  7.8790e-03],\n",
       "          [-1.1072e-02, -8.5617e-03, -1.4502e-02]],\n",
       "\n",
       "         [[-1.4357e-02,  1.2813e-02, -5.3526e-03],\n",
       "          [ 4.7076e-03, -5.7928e-03, -4.2094e-03],\n",
       "          [-2.0898e-03, -1.8512e-03,  7.6813e-03]],\n",
       "\n",
       "         ...,\n",
       "\n",
       "         [[ 1.1520e-02,  1.3531e-02,  6.1194e-03],\n",
       "          [-9.6272e-03, -8.8977e-03, -9.3949e-03],\n",
       "          [-8.2910e-03, -1.0080e-02,  8.7873e-03]],\n",
       "\n",
       "         [[ 8.1898e-03,  1.3414e-02,  1.2973e-02],\n",
       "          [ 7.2631e-03, -8.6750e-03,  8.1153e-03],\n",
       "          [-7.7689e-03,  2.2814e-04,  1.4291e-02]],\n",
       "\n",
       "         [[ 2.8479e-03, -9.7373e-03, -1.2318e-02],\n",
       "          [-2.7670e-03, -8.1154e-03, -1.1615e-02],\n",
       "          [-4.7755e-03, -1.4462e-02,  1.2448e-02]]]])"
      ]
     },
     "execution_count": 23,
     "metadata": {},
     "output_type": "execute_result"
    }
   ],
   "source": [
    "model.down_blocks[6].pconv.conv.weight"
   ]
  },
  {
   "cell_type": "code",
   "execution_count": 24,
   "metadata": {},
   "outputs": [
    {
     "name": "stdout",
     "output_type": "stream",
     "text": [
      "Epoch: 0\n"
     ]
    },
    {
     "data": {
      "application/vnd.jupyter.widget-view+json": {
       "model_id": "4fda407196d540f79ed716f362cfc8b5",
       "version_major": 2,
       "version_minor": 0
      },
      "text/html": [
       "<p>Failed to display Jupyter Widget of type <code>HBox</code>.</p>\n",
       "<p>\n",
       "  If you're reading this message in the Jupyter Notebook or JupyterLab Notebook, it may mean\n",
       "  that the widgets JavaScript is still loading. If this message persists, it\n",
       "  likely means that the widgets JavaScript library is either not installed or\n",
       "  not enabled. See the <a href=\"https://ipywidgets.readthedocs.io/en/stable/user_install.html\">Jupyter\n",
       "  Widgets Documentation</a> for setup instructions.\n",
       "</p>\n",
       "<p>\n",
       "  If you're reading this message in another frontend (for example, a static\n",
       "  rendering on GitHub or <a href=\"https://nbviewer.jupyter.org/\">NBViewer</a>),\n",
       "  it may mean that your frontend doesn't currently support widgets.\n",
       "</p>\n"
      ],
      "text/plain": [
       "HBox(children=(IntProgress(value=0, max=2), HTML(value='')))"
      ]
     },
     "metadata": {},
     "output_type": "display_data"
    },
    {
     "name": "stdout",
     "output_type": "stream",
     "text": [
      "\n",
      "\tTrain loss:\t0.099418\n"
     ]
    },
    {
     "data": {
      "application/vnd.jupyter.widget-view+json": {
       "model_id": "754119389eb146f7bf62958671b382cc",
       "version_major": 2,
       "version_minor": 0
      },
      "text/html": [
       "<p>Failed to display Jupyter Widget of type <code>HBox</code>.</p>\n",
       "<p>\n",
       "  If you're reading this message in the Jupyter Notebook or JupyterLab Notebook, it may mean\n",
       "  that the widgets JavaScript is still loading. If this message persists, it\n",
       "  likely means that the widgets JavaScript library is either not installed or\n",
       "  not enabled. See the <a href=\"https://ipywidgets.readthedocs.io/en/stable/user_install.html\">Jupyter\n",
       "  Widgets Documentation</a> for setup instructions.\n",
       "</p>\n",
       "<p>\n",
       "  If you're reading this message in another frontend (for example, a static\n",
       "  rendering on GitHub or <a href=\"https://nbviewer.jupyter.org/\">NBViewer</a>),\n",
       "  it may mean that your frontend doesn't currently support widgets.\n",
       "</p>\n"
      ],
      "text/plain": [
       "HBox(children=(IntProgress(value=0, max=2), HTML(value='')))"
      ]
     },
     "metadata": {},
     "output_type": "display_data"
    },
    {
     "name": "stdout",
     "output_type": "stream",
     "text": [
      "\n",
      "\tVal loss:\t0.11215\n",
      "\n",
      "Epoch: 1\n"
     ]
    },
    {
     "data": {
      "application/vnd.jupyter.widget-view+json": {
       "model_id": "cf3b06c2ed4d4036b7c51e2e1b5e6a2a",
       "version_major": 2,
       "version_minor": 0
      },
      "text/html": [
       "<p>Failed to display Jupyter Widget of type <code>HBox</code>.</p>\n",
       "<p>\n",
       "  If you're reading this message in the Jupyter Notebook or JupyterLab Notebook, it may mean\n",
       "  that the widgets JavaScript is still loading. If this message persists, it\n",
       "  likely means that the widgets JavaScript library is either not installed or\n",
       "  not enabled. See the <a href=\"https://ipywidgets.readthedocs.io/en/stable/user_install.html\">Jupyter\n",
       "  Widgets Documentation</a> for setup instructions.\n",
       "</p>\n",
       "<p>\n",
       "  If you're reading this message in another frontend (for example, a static\n",
       "  rendering on GitHub or <a href=\"https://nbviewer.jupyter.org/\">NBViewer</a>),\n",
       "  it may mean that your frontend doesn't currently support widgets.\n",
       "</p>\n"
      ],
      "text/plain": [
       "HBox(children=(IntProgress(value=0, max=2), HTML(value='')))"
      ]
     },
     "metadata": {},
     "output_type": "display_data"
    },
    {
     "name": "stdout",
     "output_type": "stream",
     "text": [
      "\n",
      "\tTrain loss:\t0.09515\n"
     ]
    },
    {
     "data": {
      "application/vnd.jupyter.widget-view+json": {
       "model_id": "16b090401d5d48a5b00a094d4e1301fb",
       "version_major": 2,
       "version_minor": 0
      },
      "text/html": [
       "<p>Failed to display Jupyter Widget of type <code>HBox</code>.</p>\n",
       "<p>\n",
       "  If you're reading this message in the Jupyter Notebook or JupyterLab Notebook, it may mean\n",
       "  that the widgets JavaScript is still loading. If this message persists, it\n",
       "  likely means that the widgets JavaScript library is either not installed or\n",
       "  not enabled. See the <a href=\"https://ipywidgets.readthedocs.io/en/stable/user_install.html\">Jupyter\n",
       "  Widgets Documentation</a> for setup instructions.\n",
       "</p>\n",
       "<p>\n",
       "  If you're reading this message in another frontend (for example, a static\n",
       "  rendering on GitHub or <a href=\"https://nbviewer.jupyter.org/\">NBViewer</a>),\n",
       "  it may mean that your frontend doesn't currently support widgets.\n",
       "</p>\n"
      ],
      "text/plain": [
       "HBox(children=(IntProgress(value=0, max=2), HTML(value='')))"
      ]
     },
     "metadata": {},
     "output_type": "display_data"
    },
    {
     "name": "stdout",
     "output_type": "stream",
     "text": [
      "\n",
      "\tVal loss:\t0.086894\n",
      "\n",
      "Epoch: 2\n"
     ]
    },
    {
     "data": {
      "application/vnd.jupyter.widget-view+json": {
       "model_id": "d5ac62ed602047968936747ba1c4b890",
       "version_major": 2,
       "version_minor": 0
      },
      "text/html": [
       "<p>Failed to display Jupyter Widget of type <code>HBox</code>.</p>\n",
       "<p>\n",
       "  If you're reading this message in the Jupyter Notebook or JupyterLab Notebook, it may mean\n",
       "  that the widgets JavaScript is still loading. If this message persists, it\n",
       "  likely means that the widgets JavaScript library is either not installed or\n",
       "  not enabled. See the <a href=\"https://ipywidgets.readthedocs.io/en/stable/user_install.html\">Jupyter\n",
       "  Widgets Documentation</a> for setup instructions.\n",
       "</p>\n",
       "<p>\n",
       "  If you're reading this message in another frontend (for example, a static\n",
       "  rendering on GitHub or <a href=\"https://nbviewer.jupyter.org/\">NBViewer</a>),\n",
       "  it may mean that your frontend doesn't currently support widgets.\n",
       "</p>\n"
      ],
      "text/plain": [
       "HBox(children=(IntProgress(value=0, max=2), HTML(value='')))"
      ]
     },
     "metadata": {},
     "output_type": "display_data"
    },
    {
     "name": "stdout",
     "output_type": "stream",
     "text": [
      "\n",
      "\tTrain loss:\t0.07444\n"
     ]
    },
    {
     "data": {
      "application/vnd.jupyter.widget-view+json": {
       "model_id": "9bf06a3431434725afb33521e6c66c2e",
       "version_major": 2,
       "version_minor": 0
      },
      "text/html": [
       "<p>Failed to display Jupyter Widget of type <code>HBox</code>.</p>\n",
       "<p>\n",
       "  If you're reading this message in the Jupyter Notebook or JupyterLab Notebook, it may mean\n",
       "  that the widgets JavaScript is still loading. If this message persists, it\n",
       "  likely means that the widgets JavaScript library is either not installed or\n",
       "  not enabled. See the <a href=\"https://ipywidgets.readthedocs.io/en/stable/user_install.html\">Jupyter\n",
       "  Widgets Documentation</a> for setup instructions.\n",
       "</p>\n",
       "<p>\n",
       "  If you're reading this message in another frontend (for example, a static\n",
       "  rendering on GitHub or <a href=\"https://nbviewer.jupyter.org/\">NBViewer</a>),\n",
       "  it may mean that your frontend doesn't currently support widgets.\n",
       "</p>\n"
      ],
      "text/plain": [
       "HBox(children=(IntProgress(value=0, max=2), HTML(value='')))"
      ]
     },
     "metadata": {},
     "output_type": "display_data"
    },
    {
     "name": "stdout",
     "output_type": "stream",
     "text": [
      "\n",
      "\tVal loss:\t0.09724\n",
      "\n",
      "Epoch: 3\n"
     ]
    },
    {
     "data": {
      "application/vnd.jupyter.widget-view+json": {
       "model_id": "5a7f9883175d4809a4ac18ccd8532ca6",
       "version_major": 2,
       "version_minor": 0
      },
      "text/html": [
       "<p>Failed to display Jupyter Widget of type <code>HBox</code>.</p>\n",
       "<p>\n",
       "  If you're reading this message in the Jupyter Notebook or JupyterLab Notebook, it may mean\n",
       "  that the widgets JavaScript is still loading. If this message persists, it\n",
       "  likely means that the widgets JavaScript library is either not installed or\n",
       "  not enabled. See the <a href=\"https://ipywidgets.readthedocs.io/en/stable/user_install.html\">Jupyter\n",
       "  Widgets Documentation</a> for setup instructions.\n",
       "</p>\n",
       "<p>\n",
       "  If you're reading this message in another frontend (for example, a static\n",
       "  rendering on GitHub or <a href=\"https://nbviewer.jupyter.org/\">NBViewer</a>),\n",
       "  it may mean that your frontend doesn't currently support widgets.\n",
       "</p>\n"
      ],
      "text/plain": [
       "HBox(children=(IntProgress(value=0, max=2), HTML(value='')))"
      ]
     },
     "metadata": {},
     "output_type": "display_data"
    },
    {
     "name": "stdout",
     "output_type": "stream",
     "text": [
      "\n",
      "\tTrain loss:\t0.084646\n"
     ]
    },
    {
     "data": {
      "application/vnd.jupyter.widget-view+json": {
       "model_id": "6c8fdd9c35e24ef7bdfbc2cd125c04e1",
       "version_major": 2,
       "version_minor": 0
      },
      "text/html": [
       "<p>Failed to display Jupyter Widget of type <code>HBox</code>.</p>\n",
       "<p>\n",
       "  If you're reading this message in the Jupyter Notebook or JupyterLab Notebook, it may mean\n",
       "  that the widgets JavaScript is still loading. If this message persists, it\n",
       "  likely means that the widgets JavaScript library is either not installed or\n",
       "  not enabled. See the <a href=\"https://ipywidgets.readthedocs.io/en/stable/user_install.html\">Jupyter\n",
       "  Widgets Documentation</a> for setup instructions.\n",
       "</p>\n",
       "<p>\n",
       "  If you're reading this message in another frontend (for example, a static\n",
       "  rendering on GitHub or <a href=\"https://nbviewer.jupyter.org/\">NBViewer</a>),\n",
       "  it may mean that your frontend doesn't currently support widgets.\n",
       "</p>\n"
      ],
      "text/plain": [
       "HBox(children=(IntProgress(value=0, max=2), HTML(value='')))"
      ]
     },
     "metadata": {},
     "output_type": "display_data"
    },
    {
     "name": "stdout",
     "output_type": "stream",
     "text": [
      "\n",
      "\tVal loss:\t0.099347\n",
      "\n",
      "Epoch: 4\n"
     ]
    },
    {
     "data": {
      "application/vnd.jupyter.widget-view+json": {
       "model_id": "0ad566b9f0fc4af3a3b473a83e88bc1d",
       "version_major": 2,
       "version_minor": 0
      },
      "text/html": [
       "<p>Failed to display Jupyter Widget of type <code>HBox</code>.</p>\n",
       "<p>\n",
       "  If you're reading this message in the Jupyter Notebook or JupyterLab Notebook, it may mean\n",
       "  that the widgets JavaScript is still loading. If this message persists, it\n",
       "  likely means that the widgets JavaScript library is either not installed or\n",
       "  not enabled. See the <a href=\"https://ipywidgets.readthedocs.io/en/stable/user_install.html\">Jupyter\n",
       "  Widgets Documentation</a> for setup instructions.\n",
       "</p>\n",
       "<p>\n",
       "  If you're reading this message in another frontend (for example, a static\n",
       "  rendering on GitHub or <a href=\"https://nbviewer.jupyter.org/\">NBViewer</a>),\n",
       "  it may mean that your frontend doesn't currently support widgets.\n",
       "</p>\n"
      ],
      "text/plain": [
       "HBox(children=(IntProgress(value=0, max=2), HTML(value='')))"
      ]
     },
     "metadata": {},
     "output_type": "display_data"
    },
    {
     "name": "stdout",
     "output_type": "stream",
     "text": [
      "\n",
      "\tTrain loss:\t0.20468\n"
     ]
    },
    {
     "data": {
      "application/vnd.jupyter.widget-view+json": {
       "model_id": "f1b208afa02a4fa497e49ab02ae4efdb",
       "version_major": 2,
       "version_minor": 0
      },
      "text/html": [
       "<p>Failed to display Jupyter Widget of type <code>HBox</code>.</p>\n",
       "<p>\n",
       "  If you're reading this message in the Jupyter Notebook or JupyterLab Notebook, it may mean\n",
       "  that the widgets JavaScript is still loading. If this message persists, it\n",
       "  likely means that the widgets JavaScript library is either not installed or\n",
       "  not enabled. See the <a href=\"https://ipywidgets.readthedocs.io/en/stable/user_install.html\">Jupyter\n",
       "  Widgets Documentation</a> for setup instructions.\n",
       "</p>\n",
       "<p>\n",
       "  If you're reading this message in another frontend (for example, a static\n",
       "  rendering on GitHub or <a href=\"https://nbviewer.jupyter.org/\">NBViewer</a>),\n",
       "  it may mean that your frontend doesn't currently support widgets.\n",
       "</p>\n"
      ],
      "text/plain": [
       "HBox(children=(IntProgress(value=0, max=2), HTML(value='')))"
      ]
     },
     "metadata": {},
     "output_type": "display_data"
    },
    {
     "name": "stdout",
     "output_type": "stream",
     "text": [
      "\n",
      "\tVal loss:\t0.10351\n",
      "\n",
      "Epoch: 5\n"
     ]
    },
    {
     "data": {
      "application/vnd.jupyter.widget-view+json": {
       "model_id": "436dff74402a4c7980a0c35993000505",
       "version_major": 2,
       "version_minor": 0
      },
      "text/html": [
       "<p>Failed to display Jupyter Widget of type <code>HBox</code>.</p>\n",
       "<p>\n",
       "  If you're reading this message in the Jupyter Notebook or JupyterLab Notebook, it may mean\n",
       "  that the widgets JavaScript is still loading. If this message persists, it\n",
       "  likely means that the widgets JavaScript library is either not installed or\n",
       "  not enabled. See the <a href=\"https://ipywidgets.readthedocs.io/en/stable/user_install.html\">Jupyter\n",
       "  Widgets Documentation</a> for setup instructions.\n",
       "</p>\n",
       "<p>\n",
       "  If you're reading this message in another frontend (for example, a static\n",
       "  rendering on GitHub or <a href=\"https://nbviewer.jupyter.org/\">NBViewer</a>),\n",
       "  it may mean that your frontend doesn't currently support widgets.\n",
       "</p>\n"
      ],
      "text/plain": [
       "HBox(children=(IntProgress(value=0, max=2), HTML(value='')))"
      ]
     },
     "metadata": {},
     "output_type": "display_data"
    },
    {
     "name": "stdout",
     "output_type": "stream",
     "text": [
      "\n",
      "\tTrain loss:\t0.092168\n"
     ]
    },
    {
     "data": {
      "application/vnd.jupyter.widget-view+json": {
       "model_id": "0aaf0f30a76249a19c24e5e78e378cd7",
       "version_major": 2,
       "version_minor": 0
      },
      "text/html": [
       "<p>Failed to display Jupyter Widget of type <code>HBox</code>.</p>\n",
       "<p>\n",
       "  If you're reading this message in the Jupyter Notebook or JupyterLab Notebook, it may mean\n",
       "  that the widgets JavaScript is still loading. If this message persists, it\n",
       "  likely means that the widgets JavaScript library is either not installed or\n",
       "  not enabled. See the <a href=\"https://ipywidgets.readthedocs.io/en/stable/user_install.html\">Jupyter\n",
       "  Widgets Documentation</a> for setup instructions.\n",
       "</p>\n",
       "<p>\n",
       "  If you're reading this message in another frontend (for example, a static\n",
       "  rendering on GitHub or <a href=\"https://nbviewer.jupyter.org/\">NBViewer</a>),\n",
       "  it may mean that your frontend doesn't currently support widgets.\n",
       "</p>\n"
      ],
      "text/plain": [
       "HBox(children=(IntProgress(value=0, max=2), HTML(value='')))"
      ]
     },
     "metadata": {},
     "output_type": "display_data"
    },
    {
     "name": "stdout",
     "output_type": "stream",
     "text": [
      "\n",
      "\tVal loss:\t0.084652\n",
      "\n",
      "Epoch: 6\n"
     ]
    },
    {
     "data": {
      "application/vnd.jupyter.widget-view+json": {
       "model_id": "6515340e357c420686919571fc237d0d",
       "version_major": 2,
       "version_minor": 0
      },
      "text/html": [
       "<p>Failed to display Jupyter Widget of type <code>HBox</code>.</p>\n",
       "<p>\n",
       "  If you're reading this message in the Jupyter Notebook or JupyterLab Notebook, it may mean\n",
       "  that the widgets JavaScript is still loading. If this message persists, it\n",
       "  likely means that the widgets JavaScript library is either not installed or\n",
       "  not enabled. See the <a href=\"https://ipywidgets.readthedocs.io/en/stable/user_install.html\">Jupyter\n",
       "  Widgets Documentation</a> for setup instructions.\n",
       "</p>\n",
       "<p>\n",
       "  If you're reading this message in another frontend (for example, a static\n",
       "  rendering on GitHub or <a href=\"https://nbviewer.jupyter.org/\">NBViewer</a>),\n",
       "  it may mean that your frontend doesn't currently support widgets.\n",
       "</p>\n"
      ],
      "text/plain": [
       "HBox(children=(IntProgress(value=0, max=2), HTML(value='')))"
      ]
     },
     "metadata": {},
     "output_type": "display_data"
    },
    {
     "name": "stdout",
     "output_type": "stream",
     "text": [
      "\n",
      "\tTrain loss:\t0.074593\n"
     ]
    },
    {
     "data": {
      "application/vnd.jupyter.widget-view+json": {
       "model_id": "2f56b801944348c99230179f37b8e924",
       "version_major": 2,
       "version_minor": 0
      },
      "text/html": [
       "<p>Failed to display Jupyter Widget of type <code>HBox</code>.</p>\n",
       "<p>\n",
       "  If you're reading this message in the Jupyter Notebook or JupyterLab Notebook, it may mean\n",
       "  that the widgets JavaScript is still loading. If this message persists, it\n",
       "  likely means that the widgets JavaScript library is either not installed or\n",
       "  not enabled. See the <a href=\"https://ipywidgets.readthedocs.io/en/stable/user_install.html\">Jupyter\n",
       "  Widgets Documentation</a> for setup instructions.\n",
       "</p>\n",
       "<p>\n",
       "  If you're reading this message in another frontend (for example, a static\n",
       "  rendering on GitHub or <a href=\"https://nbviewer.jupyter.org/\">NBViewer</a>),\n",
       "  it may mean that your frontend doesn't currently support widgets.\n",
       "</p>\n"
      ],
      "text/plain": [
       "HBox(children=(IntProgress(value=0, max=2), HTML(value='')))"
      ]
     },
     "metadata": {},
     "output_type": "display_data"
    },
    {
     "name": "stdout",
     "output_type": "stream",
     "text": [
      "\n",
      "\tVal loss:\t0.08298\n",
      "\n",
      "Epoch: 7\n"
     ]
    },
    {
     "data": {
      "application/vnd.jupyter.widget-view+json": {
       "model_id": "bfe170665986424aa979eb611ec88a36",
       "version_major": 2,
       "version_minor": 0
      },
      "text/html": [
       "<p>Failed to display Jupyter Widget of type <code>HBox</code>.</p>\n",
       "<p>\n",
       "  If you're reading this message in the Jupyter Notebook or JupyterLab Notebook, it may mean\n",
       "  that the widgets JavaScript is still loading. If this message persists, it\n",
       "  likely means that the widgets JavaScript library is either not installed or\n",
       "  not enabled. See the <a href=\"https://ipywidgets.readthedocs.io/en/stable/user_install.html\">Jupyter\n",
       "  Widgets Documentation</a> for setup instructions.\n",
       "</p>\n",
       "<p>\n",
       "  If you're reading this message in another frontend (for example, a static\n",
       "  rendering on GitHub or <a href=\"https://nbviewer.jupyter.org/\">NBViewer</a>),\n",
       "  it may mean that your frontend doesn't currently support widgets.\n",
       "</p>\n"
      ],
      "text/plain": [
       "HBox(children=(IntProgress(value=0, max=2), HTML(value='')))"
      ]
     },
     "metadata": {},
     "output_type": "display_data"
    },
    {
     "name": "stderr",
     "output_type": "stream",
     "text": [
      "Process Process-16:\n",
      "Traceback (most recent call last):\n",
      "  File \"/usr/local/Cellar/python3/3.6.4_2/Frameworks/Python.framework/Versions/3.6/lib/python3.6/multiprocessing/process.py\", line 258, in _bootstrap\n",
      "    self.run()\n",
      "  File \"/usr/local/Cellar/python3/3.6.4_2/Frameworks/Python.framework/Versions/3.6/lib/python3.6/multiprocessing/process.py\", line 93, in run\n",
      "    self._target(*self._args, **self._kwargs)\n",
      "  File \"/Users/iskakov/karfly_env/lib/python3.6/site-packages/torch/utils/data/dataloader.py\", line 52, in _worker_loop\n",
      "    r = index_queue.get()\n",
      "  File \"/usr/local/Cellar/python3/3.6.4_2/Frameworks/Python.framework/Versions/3.6/lib/python3.6/multiprocessing/queues.py\", line 335, in get\n",
      "    res = self._reader.recv_bytes()\n",
      "  File \"/usr/local/Cellar/python3/3.6.4_2/Frameworks/Python.framework/Versions/3.6/lib/python3.6/multiprocessing/connection.py\", line 216, in recv_bytes\n",
      "    buf = self._recv_bytes(maxlength)\n",
      "  File \"/usr/local/Cellar/python3/3.6.4_2/Frameworks/Python.framework/Versions/3.6/lib/python3.6/multiprocessing/connection.py\", line 407, in _recv_bytes\n",
      "    buf = self._recv(4)\n",
      "  File \"/usr/local/Cellar/python3/3.6.4_2/Frameworks/Python.framework/Versions/3.6/lib/python3.6/multiprocessing/connection.py\", line 379, in _recv\n",
      "    chunk = read(handle, remaining)\n",
      "KeyboardInterrupt\n"
     ]
    },
    {
     "name": "stdout",
     "output_type": "stream",
     "text": [
      "\n"
     ]
    },
    {
     "name": "stderr",
     "output_type": "stream",
     "text": [
      "Exception ignored in: <bound method _DataLoaderIter.__del__ of <torch.utils.data.dataloader._DataLoaderIter object at 0x10ca77898>>\n",
      "Traceback (most recent call last):\n",
      "  File \"/Users/iskakov/karfly_env/lib/python3.6/site-packages/torch/utils/data/dataloader.py\", line 347, in __del__\n",
      "    def __del__(self):\n",
      "  File \"/Users/iskakov/karfly_env/lib/python3.6/site-packages/torch/utils/data/dataloader.py\", line 178, in handler\n",
      "    _error_if_any_worker_fails()\n",
      "RuntimeError: DataLoader worker (pid 91596) exited unexpectedly with exit code 1.\n"
     ]
    },
    {
     "ename": "KeyboardInterrupt",
     "evalue": "",
     "output_type": "error",
     "traceback": [
      "\u001b[0;31m---------------------------------------------------------------------------\u001b[0m",
      "\u001b[0;31mKeyboardInterrupt\u001b[0m                         Traceback (most recent call last)",
      "\u001b[0;32m<ipython-input-24-f27c9670e90b>\u001b[0m in \u001b[0;36m<module>\u001b[0;34m()\u001b[0m\n\u001b[1;32m     22\u001b[0m         \u001b[0mloss\u001b[0m \u001b[0;34m=\u001b[0m \u001b[0mcriterion\u001b[0m\u001b[0;34m(\u001b[0m\u001b[0mimage_pred_batch\u001b[0m\u001b[0;34m,\u001b[0m \u001b[0mimage_batch\u001b[0m\u001b[0;34m)\u001b[0m\u001b[0;34m\u001b[0m\u001b[0m\n\u001b[1;32m     23\u001b[0m \u001b[0;34m\u001b[0m\u001b[0m\n\u001b[0;32m---> 24\u001b[0;31m         \u001b[0mloss\u001b[0m\u001b[0;34m.\u001b[0m\u001b[0mbackward\u001b[0m\u001b[0;34m(\u001b[0m\u001b[0;34m)\u001b[0m\u001b[0;34m\u001b[0m\u001b[0m\n\u001b[0m\u001b[1;32m     25\u001b[0m         \u001b[0mopt\u001b[0m\u001b[0;34m.\u001b[0m\u001b[0mstep\u001b[0m\u001b[0;34m(\u001b[0m\u001b[0;34m)\u001b[0m\u001b[0;34m\u001b[0m\u001b[0m\n\u001b[1;32m     26\u001b[0m         \u001b[0mopt\u001b[0m\u001b[0;34m.\u001b[0m\u001b[0mzero_grad\u001b[0m\u001b[0;34m(\u001b[0m\u001b[0;34m)\u001b[0m\u001b[0;34m\u001b[0m\u001b[0m\n",
      "\u001b[0;32m~/karfly_env/lib/python3.6/site-packages/torch/tensor.py\u001b[0m in \u001b[0;36mbackward\u001b[0;34m(self, gradient, retain_graph, create_graph)\u001b[0m\n\u001b[1;32m     91\u001b[0m                 \u001b[0mproducts\u001b[0m\u001b[0;34m.\u001b[0m \u001b[0mDefaults\u001b[0m \u001b[0mto\u001b[0m\u001b[0;31m \u001b[0m\u001b[0;31m`\u001b[0m\u001b[0;31m`\u001b[0m\u001b[0;32mFalse\u001b[0m\u001b[0;31m`\u001b[0m\u001b[0;31m`\u001b[0m\u001b[0;34m.\u001b[0m\u001b[0;34m\u001b[0m\u001b[0m\n\u001b[1;32m     92\u001b[0m         \"\"\"\n\u001b[0;32m---> 93\u001b[0;31m         \u001b[0mtorch\u001b[0m\u001b[0;34m.\u001b[0m\u001b[0mautograd\u001b[0m\u001b[0;34m.\u001b[0m\u001b[0mbackward\u001b[0m\u001b[0;34m(\u001b[0m\u001b[0mself\u001b[0m\u001b[0;34m,\u001b[0m \u001b[0mgradient\u001b[0m\u001b[0;34m,\u001b[0m \u001b[0mretain_graph\u001b[0m\u001b[0;34m,\u001b[0m \u001b[0mcreate_graph\u001b[0m\u001b[0;34m)\u001b[0m\u001b[0;34m\u001b[0m\u001b[0m\n\u001b[0m\u001b[1;32m     94\u001b[0m \u001b[0;34m\u001b[0m\u001b[0m\n\u001b[1;32m     95\u001b[0m     \u001b[0;32mdef\u001b[0m \u001b[0mregister_hook\u001b[0m\u001b[0;34m(\u001b[0m\u001b[0mself\u001b[0m\u001b[0;34m,\u001b[0m \u001b[0mhook\u001b[0m\u001b[0;34m)\u001b[0m\u001b[0;34m:\u001b[0m\u001b[0;34m\u001b[0m\u001b[0m\n",
      "\u001b[0;32m~/karfly_env/lib/python3.6/site-packages/torch/autograd/__init__.py\u001b[0m in \u001b[0;36mbackward\u001b[0;34m(tensors, grad_tensors, retain_graph, create_graph, grad_variables)\u001b[0m\n\u001b[1;32m     87\u001b[0m     Variable._execution_engine.run_backward(\n\u001b[1;32m     88\u001b[0m         \u001b[0mtensors\u001b[0m\u001b[0;34m,\u001b[0m \u001b[0mgrad_tensors\u001b[0m\u001b[0;34m,\u001b[0m \u001b[0mretain_graph\u001b[0m\u001b[0;34m,\u001b[0m \u001b[0mcreate_graph\u001b[0m\u001b[0;34m,\u001b[0m\u001b[0;34m\u001b[0m\u001b[0m\n\u001b[0;32m---> 89\u001b[0;31m         allow_unreachable=True)  # allow_unreachable flag\n\u001b[0m\u001b[1;32m     90\u001b[0m \u001b[0;34m\u001b[0m\u001b[0m\n\u001b[1;32m     91\u001b[0m \u001b[0;34m\u001b[0m\u001b[0m\n",
      "\u001b[0;31mKeyboardInterrupt\u001b[0m: "
     ]
    }
   ],
   "source": [
    "i = 0\n",
    "for epoch in range(config.n_epochs):\n",
    "    print('Epoch: {}'.format(epoch))\n",
    "    \n",
    "    for name, param in model.named_parameters():\n",
    "        writer.add_histogram(name, param.clone().data.numpy(), epoch)\n",
    "\n",
    "    # Train\n",
    "    model.train()\n",
    "    train_loss = train_batches =  0\n",
    "    for batch in tqdm(train_dataloader):\n",
    "        image_batch, image_masked_batch, mask_batch = preprocess_batch(batch)\n",
    "        \n",
    "        # to device\n",
    "        image_batch = image_batch.to(config.device)\n",
    "        image_masked_batch = image_masked_batch.to(config.device)\n",
    "        mask_batch = mask_batch.to(config.device)\n",
    "        \n",
    "        # inference and backprop\n",
    "        image_pred_batch, mask_pred_batch = model(image_masked_batch, mask_batch)\n",
    "#         loss = criterion(image_pred_batch, mask_batch, image_batch)\n",
    "        loss = criterion(image_pred_batch, image_batch)\n",
    "        \n",
    "        loss.backward()\n",
    "        opt.step()\n",
    "        opt.zero_grad()\n",
    "        \n",
    "        # collect metrics\n",
    "        n_iters = epoch * len(train_dataloader) + train_batches\n",
    "        writer.add_scalar('train/loss', loss.item(), n_iters)\n",
    "        \n",
    "        train_loss += loss.item()\n",
    "        train_batches += 1\n",
    "        \n",
    "    print('\\tTrain loss:\\t{:.5}'.format(train_loss / train_batches))\n",
    "    \n",
    "    # Validation\n",
    "    model.eval()\n",
    "    val_loss = val_batches =  0\n",
    "    n_images_to_draw = 0\n",
    "    for batch in tqdm(val_dataloader):\n",
    "        image_batch, image_masked_batch, mask_batch = preprocess_batch(batch)\n",
    "        \n",
    "        # to device\n",
    "        with torch.no_grad():\n",
    "            image_batch = image_batch.to(config.device)\n",
    "            image_masked_batch = image_masked_batch.to(config.device)\n",
    "            mask_batch = mask_batch.to(config.device)\n",
    "        \n",
    "        # inference\n",
    "        image_pred_batch, mask_pred_batch = model(image_masked_batch, mask_batch)\n",
    "#         loss = criterion(image_pred_batch, mask_batch, image_batch)\n",
    "        loss = criterion(image_pred_batch, image_batch)\n",
    "    \n",
    "        \n",
    "        # collect metrics\n",
    "        n_iters = epoch * len(val_dataloader) + val_batches\n",
    "        if n_images_to_draw < 3:\n",
    "            writer.add_image('val/image_pred_{}'.format(n_images_to_draw), image_pred_batch[0], n_iters)\n",
    "            writer.add_image('val/image_gt_{}'.format(n_images_to_draw), image_batch[0], n_iters)\n",
    "            writer.add_image('val/mask_{}'.format(n_images_to_draw), mask_batch[0], n_iters)\n",
    "            \n",
    "        n_images_to_draw += 1\n",
    "        \n",
    "        val_loss += loss.item()\n",
    "        val_batches += 1\n",
    "        \n",
    "    writer.add_scalar('val/loss', val_loss / val_batches, epoch)\n",
    "    \n",
    "    print('\\tVal loss:\\t{:.5}'.format(val_loss / val_batches))\n",
    "    print()"
   ]
  },
  {
   "cell_type": "code",
   "execution_count": null,
   "metadata": {},
   "outputs": [],
   "source": []
  }
 ],
 "metadata": {
  "kernelspec": {
   "display_name": "python3-karfly-env",
   "language": "python",
   "name": "python3-karfly-env"
  },
  "language_info": {
   "codemirror_mode": {
    "name": "ipython",
    "version": 3
   },
   "file_extension": ".py",
   "mimetype": "text/x-python",
   "name": "python",
   "nbconvert_exporter": "python",
   "pygments_lexer": "ipython3",
   "version": "3.6.4"
  }
 },
 "nbformat": 4,
 "nbformat_minor": 2
}
